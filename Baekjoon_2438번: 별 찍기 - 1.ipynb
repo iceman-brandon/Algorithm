{
  "nbformat": 4,
  "nbformat_minor": 0,
  "metadata": {
    "colab": {
      "name": "Baekjoon 2438번: 별 찍기 - 1.ipynb",
      "provenance": [],
      "collapsed_sections": [],
      "authorship_tag": "ABX9TyOVG0pYocanFayrfdZWl8Kx",
      "include_colab_link": true
    },
    "kernelspec": {
      "name": "python3",
      "display_name": "Python 3"
    },
    "language_info": {
      "name": "python"
    }
  },
  "cells": [
    {
      "cell_type": "markdown",
      "metadata": {
        "id": "view-in-github",
        "colab_type": "text"
      },
      "source": [
        "<a href=\"https://colab.research.google.com/github/iceman-brandon/Algorithm/blob/main/Baekjoon_2438%EB%B2%88%3A%20%EB%B3%84%20%EC%B0%8D%EA%B8%B0%20-%201.ipynb\" target=\"_parent\"><img src=\"https://colab.research.google.com/assets/colab-badge.svg\" alt=\"Open In Colab\"/></a>"
      ]
    },
    {
      "cell_type": "code",
      "metadata": {
        "id": "z2F2YH-w-CEh"
      },
      "source": [
        "n = int(input())\n",
        "for i in range(n):\n",
        "    print('*'* (i + 1))"
      ],
      "execution_count": null,
      "outputs": []
    }
  ]
}