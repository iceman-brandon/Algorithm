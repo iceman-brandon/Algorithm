{
  "nbformat": 4,
  "nbformat_minor": 0,
  "metadata": {
    "colab": {
      "name": "Baekjoon 2839번: 설탕 배달.ipynb",
      "provenance": [],
      "collapsed_sections": [],
      "authorship_tag": "ABX9TyMf7i/pyRM+jJglTubK/Uy4",
      "include_colab_link": true
    },
    "kernelspec": {
      "name": "python3",
      "display_name": "Python 3"
    },
    "language_info": {
      "name": "python"
    }
  },
  "cells": [
    {
      "cell_type": "markdown",
      "metadata": {
        "id": "view-in-github",
        "colab_type": "text"
      },
      "source": [
        "<a href=\"https://colab.research.google.com/github/iceman-brandon/Algorithm/blob/main/Baekjoon%202839%EB%B2%88%3A%20%EC%84%A4%ED%83%95%20%EB%B0%B0%EB%8B%AC.ipynb\" target=\"_parent\"><img src=\"https://colab.research.google.com/assets/colab-badge.svg\" alt=\"Open In Colab\"/></a>"
      ]
    },
    {
      "cell_type": "code",
      "metadata": {
        "colab": {
          "base_uri": "https://localhost:8080/"
        },
        "id": "kOueJ7Lp4kcB",
        "outputId": "b04e644a-6f3f-48e6-cadd-a9879225e34f"
      },
      "source": [
        "n = int(input())\n",
        "bag = 0\n",
        "\n",
        "while n >= 0 :\n",
        "    if n % 5 == 0:\n",
        "        bag += (n // 5)\n",
        "        print(bag)\n",
        "        break\n",
        "    n -= 3\n",
        "    bag += 1    \n",
        "else:\n",
        "    print(-1)\n",
        "\n",
        "'''\n",
        "+ n으로 설탕 무게 입력받는다\n",
        "+ 5로 나눈 나머지가 0이 되면 (5의 배수)\n",
        "+ bag의 수는 하나씩 증가 (5kg 봉지 += 1)\n",
        "+ n(설탕 무게) 5의 배수가 아니면 5의 배수가 될 때까지 3을 빼고\n",
        "  3kg 봉지의 개수가 하나씩 증가하도록 함\n",
        "\n",
        "+ else문으로 -1 출력   \n",
        "'''"
      ],
      "execution_count": 2,
      "outputs": [
        {
          "output_type": "stream",
          "text": [
            "20\n",
            "4\n"
          ],
          "name": "stdout"
        }
      ]
    }
  ]
}