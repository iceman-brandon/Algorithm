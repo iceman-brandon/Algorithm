{
  "nbformat": 4,
  "nbformat_minor": 0,
  "metadata": {
    "colab": {
      "name": "20210919_프로그래머스 연습문제_Lv1.ipynb",
      "provenance": [],
      "collapsed_sections": []
    },
    "kernelspec": {
      "name": "python3",
      "display_name": "Python 3"
    },
    "language_info": {
      "name": "python"
    }
  },
  "cells": [
    {
      "cell_type": "code",
      "metadata": {
        "colab": {
          "base_uri": "https://localhost:8080/",
          "height": 35
        },
        "id": "OD0iCI3KxBRe",
        "outputId": "1af28918-749e-4cba-c976-ffef21e6e499"
      },
      "source": [
        "# 핸드폰 번호 가리기 문제\n",
        "######################\n",
        "phone_number = '023338888'\n",
        "\n",
        "back_number = phone_number[-4:]\n",
        "star_number = phone_number[:-4] # 문자열도 인덱싱 슬라이싱이 가능함\n",
        "change_number = '*' * len(star_number)\n",
        "\n",
        "renew = change_number + back_number\n",
        "renew"
      ],
      "execution_count": null,
      "outputs": [
        {
          "output_type": "execute_result",
          "data": {
            "application/vnd.google.colaboratory.intrinsic+json": {
              "type": "string"
            },
            "text/plain": [
              "'*****8888'"
            ]
          },
          "metadata": {},
          "execution_count": 13
        }
      ]
    },
    {
      "cell_type": "code",
      "metadata": {
        "colab": {
          "base_uri": "https://localhost:8080/",
          "height": 35
        },
        "id": "truWENwj8xQj",
        "outputId": "8e3bc61a-c9fd-470a-8f9d-84f13276c4ea"
      },
      "source": [
        "# 서울에서 김서방 찾기 문제\n",
        "#######################\n",
        "seoul = ['Jane', \"Kim\"]\n",
        "\n",
        "idx = seoul.index(\"Kim\")\n",
        "answer = str('김서방은 %d에 있다'%(idx))\n",
        "answer"
      ],
      "execution_count": null,
      "outputs": [
        {
          "output_type": "execute_result",
          "data": {
            "application/vnd.google.colaboratory.intrinsic+json": {
              "type": "string"
            },
            "text/plain": [
              "'김서방은 1에 있다'"
            ]
          },
          "metadata": {},
          "execution_count": 19
        }
      ]
    },
    {
      "cell_type": "code",
      "metadata": {
        "colab": {
          "base_uri": "https://localhost:8080/",
          "height": 35
        },
        "id": "a30bHPpxA651",
        "outputId": "f9562f51-99f0-4ad9-a32c-44fca39913d4"
      },
      "source": [
        "# 이상한 문자 만들기 문제\n",
        "######################\n",
        "\n",
        "s = \"try hello world\"\n",
        "\n",
        "# 1 공백 기준으로 단어 나누기\n",
        "words = s.split() # ['try', 'hello', 'world']\n",
        "\n",
        "# 2 단어별로 인덱스가 짝수이면 대문자, 홀수이면 소문자 (upper, lower)\n",
        "str_list = []\n",
        "\n",
        "for word in words:\n",
        "    # 2-1. 단어의 문자별 인덱스 추출\n",
        "    for idx, w in enumerate(word):\n",
        "        #print(w, idx)\n",
        "\n",
        "    # 2-2. 추출된 문자별 인덱스 짝/홀 판단\n",
        "    # 2-3. 문자인덱스의 짝/홀에 따라 대소문자로 변환\n",
        "        if idx % 2 == 0:\n",
        "            str_list.append(w.upper())\n",
        "            #print(w, idx, w.upper())    \n",
        "        else:\n",
        "            str_list.append(w.lower())\n",
        "            #print(w, idx, w.lower())\n",
        "    str_list.append(' ') # 리스트에 공백 삽입 잘되는데??????\n",
        "# 3 list를 문자열로 바꾸기\n",
        "str_comb = ''.join(str_list).strip()\n",
        "str_comb"
      ],
      "execution_count": 101,
      "outputs": [
        {
          "output_type": "execute_result",
          "data": {
            "application/vnd.google.colaboratory.intrinsic+json": {
              "type": "string"
            },
            "text/plain": [
              "'TrY HeLlO WoRlD'"
            ]
          },
          "metadata": {},
          "execution_count": 101
        }
      ]
    },
    {
      "cell_type": "code",
      "metadata": {
        "id": "6WkvfR-YYBX6"
      },
      "source": [
        "# 이상한 문자 만들기 문제 (해답 풀이)\n",
        "################################\n",
        "\n",
        "def solution(s):\n",
        "    answer = ''\n",
        "    for text in s.split(' '):\n",
        "        for i, c in enumerate(text):\n",
        "            if i % 2 == 0:\n",
        "                answer += c.upper()\n",
        "            else:\n",
        "                answer += c.lower()\n",
        "        answer += ' '        \n",
        "    return answer[:-1]"
      ],
      "execution_count": null,
      "outputs": []
    }
  ]
}