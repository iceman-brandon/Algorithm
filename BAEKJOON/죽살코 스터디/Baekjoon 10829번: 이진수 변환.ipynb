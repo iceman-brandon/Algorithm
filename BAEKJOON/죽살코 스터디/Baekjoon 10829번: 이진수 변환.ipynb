{
  "nbformat": 4,
  "nbformat_minor": 0,
  "metadata": {
    "colab": {
      "name": "Baekjoon 10829번: 이진수 변환.ipynb",
      "provenance": [],
      "authorship_tag": "ABX9TyMSAaXZmHKPWZ4WVkC4zbdM",
      "include_colab_link": true
    },
    "kernelspec": {
      "name": "python3",
      "display_name": "Python 3"
    },
    "language_info": {
      "name": "python"
    }
  },
  "cells": [
    {
      "cell_type": "markdown",
      "metadata": {
        "id": "view-in-github",
        "colab_type": "text"
      },
      "source": [
        "<a href=\"https://colab.research.google.com/github/iceman-brandon/Algorithm/blob/main/Baekjoon_10829%EB%B2%88_%EC%9D%B4%EC%A7%84%EC%88%98_%EB%B3%80%ED%99%98.ipynb\" target=\"_parent\"><img src=\"https://colab.research.google.com/assets/colab-badge.svg\" alt=\"Open In Colab\"/></a>"
      ]
    },
    {
      "cell_type": "code",
      "metadata": {
        "colab": {
          "base_uri": "https://localhost:8080/"
        },
        "id": "QuLnRoTF8zof",
        "outputId": "a0ece487-abfd-4475-f0c7-6280c4de034f"
      },
      "source": [
        "# Baekjoon 10829번: 이진수 변환 문제\n",
        "N = int(input())\n",
        "N = bin(N)[2:] # N을 이진수로 변환하고 0b떼서 저장\n",
        "\n",
        "print(N)"
      ],
      "execution_count": 2,
      "outputs": [
        {
          "output_type": "stream",
          "text": [
            "53\n",
            "110101\n"
          ],
          "name": "stdout"
        }
      ]
    }
  ]
}
