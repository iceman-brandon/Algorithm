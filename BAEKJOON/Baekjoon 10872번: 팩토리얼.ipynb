{
  "nbformat": 4,
  "nbformat_minor": 0,
  "metadata": {
    "colab": {
      "name": "Baekjoon 10872번: 팩토리얼.ipynb",
      "provenance": [],
      "authorship_tag": "ABX9TyMmgO/NQHzxfKl3z0CwPL6T",
      "include_colab_link": true
    },
    "kernelspec": {
      "name": "python3",
      "display_name": "Python 3"
    },
    "language_info": {
      "name": "python"
    }
  },
  "cells": [
    {
      "cell_type": "markdown",
      "metadata": {
        "id": "view-in-github",
        "colab_type": "text"
      },
      "source": [
        "<a href=\"https://colab.research.google.com/github/iceman-brandon/Algorithm/blob/main/Baekjoon%2010872%EB%B2%88%3A%20%ED%8C%A9%ED%86%A0%EB%A6%AC%EC%96%BC.ipynb\" target=\"_parent\"><img src=\"https://colab.research.google.com/assets/colab-badge.svg\" alt=\"Open In Colab\"/></a>"
      ]
    },
    {
      "cell_type": "code",
      "metadata": {
        "colab": {
          "base_uri": "https://localhost:8080/"
        },
        "id": "csz1IfP5CSWL",
        "outputId": "3fb7c489-8b35-4960-c6ec-95691ebeb3d9"
      },
      "source": [
        "# Baekjoon 10872번: 팩토리얼 문제\n",
        "def factorial(N):\n",
        "    if N == 0: # 정수 N은 0 이상 12이하 이므로 0과 같으면...\n",
        "        return 1\n",
        "    else:\n",
        "        return N * factorial(N-1)\n",
        "\n",
        "N = int(input())\n",
        "print(factorial(N))"
      ],
      "execution_count": 9,
      "outputs": [
        {
          "output_type": "stream",
          "text": [
            "10\n",
            "3628800\n"
          ],
          "name": "stdout"
        }
      ]
    }
  ]
}
