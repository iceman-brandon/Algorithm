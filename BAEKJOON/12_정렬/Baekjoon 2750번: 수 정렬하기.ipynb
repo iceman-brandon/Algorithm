{
  "nbformat": 4,
  "nbformat_minor": 0,
  "metadata": {
    "colab": {
      "name": "Baekjoon 2750번: 수 정렬하기.ipynb",
      "provenance": [],
      "collapsed_sections": [],
      "authorship_tag": "ABX9TyPKd+LkPRjCKVvoQP36YkLg",
      "include_colab_link": true
    },
    "kernelspec": {
      "name": "python3",
      "display_name": "Python 3"
    },
    "language_info": {
      "name": "python"
    }
  },
  "cells": [
    {
      "cell_type": "markdown",
      "metadata": {
        "id": "view-in-github",
        "colab_type": "text"
      },
      "source": [
        "<a href=\"https://colab.research.google.com/github/iceman-brandon/Algorithm/blob/main/Baekjoon%202750%EB%B2%88%3A%20%EC%88%98%20%EC%A0%95%EB%A0%AC%ED%95%98%EA%B8%B0.ipynb\" target=\"_parent\"><img src=\"https://colab.research.google.com/assets/colab-badge.svg\" alt=\"Open In Colab\"/></a>"
      ]
    },
    {
      "cell_type": "code",
      "metadata": {
        "colab": {
          "base_uri": "https://localhost:8080/"
        },
        "id": "GBBCfesNKpo5",
        "outputId": "523485d2-14f0-4b31-dd5c-fe75fce86485"
      },
      "source": [
        "n = int(input())\n",
        "num_list = []\n",
        "\n",
        "for _ in range(n):\n",
        "    num_list.append(int(input()))\n",
        "\n",
        "num_list = sorted(num_list)\n",
        "\n",
        "for i in num_list:\n",
        "    print(i)"
      ],
      "execution_count": 5,
      "outputs": [
        {
          "output_type": "stream",
          "name": "stdout",
          "text": [
            "5\n",
            "5\n",
            "2\n",
            "3\n",
            "4\n",
            "1\n",
            "1\n",
            "2\n",
            "3\n",
            "4\n",
            "5\n"
          ]
        }
      ]
    }
  ]
}
