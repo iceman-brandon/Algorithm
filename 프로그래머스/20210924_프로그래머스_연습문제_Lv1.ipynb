{
  "nbformat": 4,
  "nbformat_minor": 0,
  "metadata": {
    "colab": {
      "name": "20210924_프로그래머스 연습문제_Lv1.ipynb",
      "provenance": [],
      "collapsed_sections": []
    },
    "kernelspec": {
      "name": "python3",
      "display_name": "Python 3"
    },
    "language_info": {
      "name": "python"
    }
  },
  "cells": [
    {
      "cell_type": "code",
      "metadata": {
        "colab": {
          "base_uri": "https://localhost:8080/"
        },
        "id": "SpLsrIsGRC6x",
        "outputId": "3983c507-614e-4bb8-d8d2-3cc953243524"
      },
      "source": [
        "# 직사각형 별찍기 문제\n",
        "a, b = map(int, input().strip().split(' '))\n",
        "\n",
        "for i in range(b): # 행에 대한 반복문 정의\n",
        "    print('*' * a) # 별 개수 만큼 곱해서 출력하도록 한다        "
      ],
      "execution_count": 2,
      "outputs": [
        {
          "output_type": "stream",
          "name": "stdout",
          "text": [
            "6 3\n",
            "******\n",
            "******\n",
            "******\n"
          ]
        }
      ]
    },
    {
      "cell_type": "code",
      "metadata": {
        "id": "nY5mpt0wT8hN"
      },
      "source": [
        "# x만큼 간격이 있는 n개의 숫자 문제\n",
        "\n",
        "def solution(x, n):\n",
        "    ans_list = []    \n",
        "    for i in range(0, n):\n",
        "        i += 1\n",
        "        answer = x * i\n",
        "        ans_list.append(answer) \n",
        "    return ans_list # 모두 append한 list를 반환  "
      ],
      "execution_count": 47,
      "outputs": []
    },
    {
      "cell_type": "code",
      "metadata": {
        "colab": {
          "base_uri": "https://localhost:8080/"
        },
        "id": "eOMmZqUhUie2",
        "outputId": "9065f3a3-291f-4b31-e319-c15f7bda0804"
      },
      "source": [
        "solution(2, 5)"
      ],
      "execution_count": 48,
      "outputs": [
        {
          "output_type": "execute_result",
          "data": {
            "text/plain": [
              "[2, 4, 6, 8, 10]"
            ]
          },
          "metadata": {},
          "execution_count": 48
        }
      ]
    },
    {
      "cell_type": "code",
      "metadata": {
        "id": "GOKb-3FUaRgo"
      },
      "source": [
        "# 평균 구하기 문제\n",
        "\n",
        "def solution(arr):\n",
        "    answer = sum(arr) / len(arr) # sum 함수를 이용해 배열 arr 안에 있는 모든 값을 더하고, 요소의 수 만큼 나눈다 \n",
        "    return answer"
      ],
      "execution_count": 56,
      "outputs": []
    },
    {
      "cell_type": "code",
      "metadata": {
        "colab": {
          "base_uri": "https://localhost:8080/"
        },
        "id": "48DJLCyrdChR",
        "outputId": "a354f081-1710-4c0c-b5eb-ba9a872b2e3b"
      },
      "source": [
        "arr = [1,2,3,4,5]\n",
        "solution(arr)"
      ],
      "execution_count": 57,
      "outputs": [
        {
          "output_type": "execute_result",
          "data": {
            "text/plain": [
              "3.0"
            ]
          },
          "metadata": {},
          "execution_count": 57
        }
      ]
    }
  ]
}