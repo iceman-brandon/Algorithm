{
  "nbformat": 4,
  "nbformat_minor": 0,
  "metadata": {
    "colab": {
      "name": "20211003_프로그래머스 연습문제_Lv1.ipynb",
      "provenance": [],
      "collapsed_sections": []
    },
    "kernelspec": {
      "name": "python3",
      "display_name": "Python 3"
    },
    "language_info": {
      "name": "python"
    }
  },
  "cells": [
    {
      "cell_type": "code",
      "metadata": {
        "id": "_stD11K5_5oG"
      },
      "source": [
        "# 행렬의 덧셈 문제\n",
        "def solution(arr1, arr2):\n",
        "    answer = []\n",
        "    \n",
        "    for i in range(len(arr1)): # 각 row에 대한 반복문 설정\n",
        "        tmp = []\n",
        "        for j in range(len(arr1[0])): # 각 column 만큼 반복\n",
        "            tmp.append(arr1[i][j] + arr2[i][j])\n",
        "        answer.append(tmp) # 각 행렬의 요소값들을 모두 더한 tmp 리스트를 answer 리스트 안에다 append함\n",
        "        \n",
        "    return answer"
      ],
      "execution_count": 1,
      "outputs": []
    },
    {
      "cell_type": "code",
      "metadata": {
        "colab": {
          "base_uri": "https://localhost:8080/"
        },
        "id": "rfdeObFCAVUG",
        "outputId": "5442b9cc-dbb2-4c9f-b63c-226df3a96e37"
      },
      "source": [
        "solution([[1,2],[2,3]], [[3,4],[5,6]])"
      ],
      "execution_count": 2,
      "outputs": [
        {
          "output_type": "execute_result",
          "data": {
            "text/plain": [
              "[[4, 6], [7, 9]]"
            ]
          },
          "metadata": {},
          "execution_count": 2
        }
      ]
    },
    {
      "cell_type": "code",
      "metadata": {
        "colab": {
          "base_uri": "https://localhost:8080/"
        },
        "id": "buGGAxy6AkA1",
        "outputId": "4c9e80a2-917f-435e-dd6f-f52b93a09bc5"
      },
      "source": [
        "solution([[1],[2]], [[3],[4]])"
      ],
      "execution_count": 3,
      "outputs": [
        {
          "output_type": "execute_result",
          "data": {
            "text/plain": [
              "[[4], [6]]"
            ]
          },
          "metadata": {},
          "execution_count": 3
        }
      ]
    }
  ]
}