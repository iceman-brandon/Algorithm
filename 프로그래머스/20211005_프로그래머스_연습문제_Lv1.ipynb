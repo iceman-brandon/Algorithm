{
  "nbformat": 4,
  "nbformat_minor": 0,
  "metadata": {
    "colab": {
      "name": "20211005_프로그래머스 연습문제_Lv1.ipynb",
      "provenance": [],
      "collapsed_sections": []
    },
    "kernelspec": {
      "name": "python3",
      "display_name": "Python 3"
    },
    "language_info": {
      "name": "python"
    }
  },
  "cells": [
    {
      "cell_type": "code",
      "metadata": {
        "id": "vhZW4usm925D"
      },
      "source": [
        "# 하샤드 수 문제\n",
        "def solution(x):\n",
        "    sum = 0\n",
        "    \n",
        "    for i in str(x): # 이렇게 하면 ex) x가 10일 경우 string 타입의 '1', '0' 을 i로 가져옴\n",
        "        sum += int(i)\n",
        "        \n",
        "    if x % sum == 0:\n",
        "        return True\n",
        "        \n",
        "    else:\n",
        "        return False"
      ],
      "execution_count": 1,
      "outputs": []
    },
    {
      "cell_type": "code",
      "metadata": {
        "colab": {
          "base_uri": "https://localhost:8080/"
        },
        "id": "4nSXCcmy_4m0",
        "outputId": "6ea9eda7-aa69-456c-e176-b951948bc0d3"
      },
      "source": [
        "print(solution(10))\n",
        "print(solution(12))\n",
        "print(solution(11))\n",
        "print(solution(13))"
      ],
      "execution_count": 4,
      "outputs": [
        {
          "output_type": "stream",
          "name": "stdout",
          "text": [
            "True\n",
            "True\n",
            "False\n",
            "False\n"
          ]
        }
      ]
    }
  ]
}