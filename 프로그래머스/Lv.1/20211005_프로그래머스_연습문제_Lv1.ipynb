{
  "nbformat": 4,
  "nbformat_minor": 0,
  "metadata": {
    "colab": {
      "name": "20211005_프로그래머스 연습문제_Lv1.ipynb",
      "provenance": [],
      "collapsed_sections": []
    },
    "kernelspec": {
      "name": "python3",
      "display_name": "Python 3"
    },
    "language_info": {
      "name": "python"
    }
  },
  "cells": [
    {
      "cell_type": "code",
      "metadata": {
        "id": "vhZW4usm925D"
      },
      "source": [
        "# 하샤드 수 문제\n",
        "def solution(x):\n",
        "    sum = 0\n",
        "    \n",
        "    for i in str(x): # 이렇게 하면 ex) x가 10일 경우 string 타입의 '1', '0' 을 i로 가져옴\n",
        "        sum += int(i)\n",
        "        \n",
        "    if x % sum == 0:\n",
        "        return True\n",
        "        \n",
        "    else:\n",
        "        return False"
      ],
      "execution_count": null,
      "outputs": []
    },
    {
      "cell_type": "code",
      "metadata": {
        "colab": {
          "base_uri": "https://localhost:8080/"
        },
        "id": "4nSXCcmy_4m0",
        "outputId": "6ea9eda7-aa69-456c-e176-b951948bc0d3"
      },
      "source": [
        "print(solution(10))\n",
        "print(solution(12))\n",
        "print(solution(11))\n",
        "print(solution(13))"
      ],
      "execution_count": null,
      "outputs": [
        {
          "output_type": "stream",
          "name": "stdout",
          "text": [
            "True\n",
            "True\n",
            "False\n",
            "False\n"
          ]
        }
      ]
    },
    {
      "cell_type": "code",
      "metadata": {
        "id": "LmH_vtYSkn-J"
      },
      "source": [
        "# 콜라츠 추측 문제\n",
        "def solution(num):\n",
        "    answer = 0\n",
        "    \n",
        "    while True:\n",
        "        if num == 1: # 입력받은 수가 1이면 그대로 answer 리턴\n",
        "            return answer\n",
        "        \n",
        "        if answer == 500: # 작업횟수가 500번이 되면 -1 리턴\n",
        "            return -1\n",
        "        \n",
        "        if num % 2 == 0: # 입력받은 수가 짝수면 2로 나눈 후, 변수에 담는다\n",
        "            num = num / 2\n",
        "        \n",
        "        elif num % 2 == 1: # 홀수면... 3을 곱하고 1일 더한 후, 변수에 담는다\n",
        "            num = (num * 3) + 1\n",
        "        \n",
        "        answer += 1 # 이 과정 중 하나의 작업을 마치면 횟수를 1 더해준다\n",
        "            \n",
        "    return answer"
      ],
      "execution_count": 1,
      "outputs": []
    },
    {
      "cell_type": "code",
      "metadata": {
        "colab": {
          "base_uri": "https://localhost:8080/"
        },
        "id": "pvvt6c1TkwhF",
        "outputId": "75bd6350-9142-49bd-d162-266e85598a2b"
      },
      "source": [
        "solution(6)"
      ],
      "execution_count": 2,
      "outputs": [
        {
          "output_type": "execute_result",
          "data": {
            "text/plain": [
              "8"
            ]
          },
          "metadata": {},
          "execution_count": 2
        }
      ]
    },
    {
      "cell_type": "code",
      "metadata": {
        "colab": {
          "base_uri": "https://localhost:8080/"
        },
        "id": "uzhcoJJ3k0xE",
        "outputId": "4ea6bd6f-9efa-4a20-d944-abf6fe561457"
      },
      "source": [
        "solution(16)"
      ],
      "execution_count": 3,
      "outputs": [
        {
          "output_type": "execute_result",
          "data": {
            "text/plain": [
              "4"
            ]
          },
          "metadata": {},
          "execution_count": 3
        }
      ]
    },
    {
      "cell_type": "code",
      "metadata": {
        "colab": {
          "base_uri": "https://localhost:8080/"
        },
        "id": "upef9d-rk0zZ",
        "outputId": "56ac420b-efb3-4bd7-df4e-4256b387e5bc"
      },
      "source": [
        "solution(626331)"
      ],
      "execution_count": 4,
      "outputs": [
        {
          "output_type": "execute_result",
          "data": {
            "text/plain": [
              "-1"
            ]
          },
          "metadata": {},
          "execution_count": 4
        }
      ]
    },
    {
      "cell_type": "code",
      "metadata": {
        "id": "BQLpWoR0k8ro"
      },
      "source": [
        "# 최대공약수와 최소공배수 문제\n",
        "def solution(n, m):\n",
        "    answer = []\n",
        "    \n",
        "    # 최대 공약수\n",
        "    for i in range(min(n, m), 0, -1):\n",
        "        if n % i == 0 and m % i == 0:\n",
        "            answer.append(i)\n",
        "            break\n",
        "            \n",
        "    # 최소 공배수\n",
        "    for i in range(max(n, m), (n*m)+1):\n",
        "        if i % n == 0 and i % m == 0:\n",
        "            answer.append(i)\n",
        "            break\n",
        "            \n",
        "    return answer"
      ],
      "execution_count": 5,
      "outputs": []
    },
    {
      "cell_type": "code",
      "metadata": {
        "colab": {
          "base_uri": "https://localhost:8080/"
        },
        "id": "O6UnfbjvmjAc",
        "outputId": "146bc37e-46c1-4daa-fae6-e0c7c2a70c38"
      },
      "source": [
        "print(solution(3, 12))\n",
        "print(solution(2, 5))"
      ],
      "execution_count": 6,
      "outputs": [
        {
          "output_type": "stream",
          "name": "stdout",
          "text": [
            "[3, 12]\n",
            "[1, 10]\n"
          ]
        }
      ]
    },
    {
      "cell_type": "code",
      "metadata": {
        "id": "i9zWBneuqPur"
      },
      "source": [
        "# 정수 제곱근 판별 문제\n",
        "import math\n",
        "\n",
        "def solution(n):\n",
        "    answer = 0\n",
        "    \n",
        "    x = math.sqrt(n)\n",
        "    \n",
        "    if  int(x) ** 2  == n: # n이 양의 정수 x의 제곱이라면\n",
        "        answer = (int(x) + 1) ** 2 # x+1의 제곱을 리턴\n",
        "    \n",
        "    else:\n",
        "        return -1 # n이 양의 정수 x의 제곱이 아니라면 -1을 리턴\n",
        "    \n",
        "    return answer"
      ],
      "execution_count": 7,
      "outputs": []
    },
    {
      "cell_type": "code",
      "metadata": {
        "colab": {
          "base_uri": "https://localhost:8080/"
        },
        "id": "Y3jf32eLqSTs",
        "outputId": "f5b92e78-4088-48df-dc6f-a4f584251812"
      },
      "source": [
        "print(solution(121))\n",
        "print(solution(3))"
      ],
      "execution_count": 8,
      "outputs": [
        {
          "output_type": "stream",
          "name": "stdout",
          "text": [
            "144\n",
            "-1\n"
          ]
        }
      ]
    },
    {
      "cell_type": "code",
      "metadata": {
        "id": "inIFEaY_0quh"
      },
      "source": [
        "# 나누어 떨어지는 숫자 배열 문제\n",
        "def solution(arr, divisor):\n",
        "    answer = []\n",
        "    \n",
        "    # element 중 divisor로 나누어 떨어지는 값은 answer 배열에 추가\n",
        "    for i in arr:\n",
        "        if i % divisor == 0:\n",
        "            answer.append(i)    \n",
        "\n",
        "    # 나누어 떨어지는 element가 하나도 없는 경우        \n",
        "    if len(answer) == 0:  \n",
        "        answer.append(-1)\n",
        "    \n",
        "    return sorted(answer)"
      ],
      "execution_count": 9,
      "outputs": []
    },
    {
      "cell_type": "code",
      "metadata": {
        "colab": {
          "base_uri": "https://localhost:8080/"
        },
        "id": "ECKX5KkQ07Qt",
        "outputId": "4aa7e3d2-83f3-4d97-ec6a-b8f82bc275d4"
      },
      "source": [
        "print(solution([5, 9, 7, 10], 5))\n",
        "print(solution([2, 36, 1, 3], 1))\n",
        "print(solution([3, 2, 6], 10))"
      ],
      "execution_count": 10,
      "outputs": [
        {
          "output_type": "stream",
          "name": "stdout",
          "text": [
            "[5, 10]\n",
            "[1, 2, 3, 36]\n",
            "[-1]\n"
          ]
        }
      ]
    }
  ]
}