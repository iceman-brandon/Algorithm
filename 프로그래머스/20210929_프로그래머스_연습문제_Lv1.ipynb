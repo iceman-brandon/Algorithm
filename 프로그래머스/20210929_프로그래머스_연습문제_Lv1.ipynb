{
  "nbformat": 4,
  "nbformat_minor": 0,
  "metadata": {
    "colab": {
      "name": "20210929_프로그래머스 연습문제_Lv1.ipynb",
      "provenance": [],
      "collapsed_sections": []
    },
    "kernelspec": {
      "name": "python3",
      "display_name": "Python 3"
    },
    "language_info": {
      "name": "python"
    }
  },
  "cells": [
    {
      "cell_type": "code",
      "metadata": {
        "id": "uIEP1W0AmSHK"
      },
      "source": [
        "# 정수 내림차순으로 배치하기 문제\n",
        "def solution(n):\n",
        "    answer = str(n)\n",
        "    return int(''.join(sorted(answer, reverse=True)))"
      ],
      "execution_count": 1,
      "outputs": []
    },
    {
      "cell_type": "code",
      "metadata": {
        "colab": {
          "base_uri": "https://localhost:8080/"
        },
        "id": "JBK_OGiRmbQv",
        "outputId": "73894c9c-c2e3-4182-aeb1-479206069023"
      },
      "source": [
        "solution(118372)"
      ],
      "execution_count": 2,
      "outputs": [
        {
          "output_type": "execute_result",
          "data": {
            "text/plain": [
              "873211"
            ]
          },
          "metadata": {},
          "execution_count": 2
        }
      ]
    }
  ]
}