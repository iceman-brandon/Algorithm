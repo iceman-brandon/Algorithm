{
  "nbformat": 4,
  "nbformat_minor": 0,
  "metadata": {
    "colab": {
      "name": "20210929_프로그래머스 연습문제_Lv1.ipynb",
      "provenance": [],
      "collapsed_sections": []
    },
    "kernelspec": {
      "name": "python3",
      "display_name": "Python 3"
    },
    "language_info": {
      "name": "python"
    }
  },
  "cells": [
    {
      "cell_type": "code",
      "metadata": {
        "id": "uIEP1W0AmSHK"
      },
      "source": [
        "# 정수 내림차순으로 배치하기 문제\n",
        "def solution(n):\n",
        "    answer = str(n)\n",
        "    return int(''.join(sorted(answer, reverse=True)))"
      ],
      "execution_count": null,
      "outputs": []
    },
    {
      "cell_type": "code",
      "metadata": {
        "colab": {
          "base_uri": "https://localhost:8080/"
        },
        "id": "JBK_OGiRmbQv",
        "outputId": "73894c9c-c2e3-4182-aeb1-479206069023"
      },
      "source": [
        "solution(118372)"
      ],
      "execution_count": null,
      "outputs": [
        {
          "output_type": "execute_result",
          "data": {
            "text/plain": [
              "873211"
            ]
          },
          "metadata": {},
          "execution_count": 2
        }
      ]
    },
    {
      "cell_type": "code",
      "metadata": {
        "id": "3_kgxAfWq33u"
      },
      "source": [
        "# 제일 작은 수 제거하기 문제\n",
        "def solution(arr):\n",
        "    \n",
        "    if len(arr) > 1: # 0 으로 했을 경우 :: 빈 경우 [] ← 이렇게 출력되어 기댓값과 틀리게되므로 1 로 설정\n",
        "        arr.remove(min(arr)) # 제일 작은 수 제거\n",
        "        return arr\n",
        "    \n",
        "    # 리턴하려는 배열이 빈 경우 -1을 채워 리턴\n",
        "    else:\n",
        "        return [-1]"
      ],
      "execution_count": null,
      "outputs": []
    },
    {
      "cell_type": "code",
      "metadata": {
        "colab": {
          "base_uri": "https://localhost:8080/"
        },
        "id": "5xrBoS96q8Oe",
        "outputId": "7d7348ed-a773-4b0a-f0e8-b9337a032986"
      },
      "source": [
        "solution([10])"
      ],
      "execution_count": null,
      "outputs": [
        {
          "output_type": "execute_result",
          "data": {
            "text/plain": [
              "[-1]"
            ]
          },
          "metadata": {},
          "execution_count": 6
        }
      ]
    },
    {
      "cell_type": "code",
      "metadata": {
        "id": "M1nmvooOvBY2"
      },
      "source": [
        "# 자릿수 더하기 문제\n",
        "def solution(n):\n",
        "    answer = sum(map(int, str(n)))\n",
        "    return answer"
      ],
      "execution_count": 7,
      "outputs": []
    },
    {
      "cell_type": "code",
      "metadata": {
        "colab": {
          "base_uri": "https://localhost:8080/"
        },
        "id": "3sGjD7wZvJIs",
        "outputId": "01616bd7-d25b-4790-b5df-b90eb39c3f53"
      },
      "source": [
        "solution(123)"
      ],
      "execution_count": 8,
      "outputs": [
        {
          "output_type": "execute_result",
          "data": {
            "text/plain": [
              "6"
            ]
          },
          "metadata": {},
          "execution_count": 8
        }
      ]
    },
    {
      "cell_type": "code",
      "metadata": {
        "id": "_7TdjlmJv7RA"
      },
      "source": [
        "# 수박수박수박수박수박수? 문제\n",
        "def solution(n):\n",
        "    s = \"\"\n",
        "    for i in range(n):\n",
        "        if i % 2 == 0:\n",
        "            s += '수'\n",
        "        else:\n",
        "            s += '박'\n",
        "    return s  "
      ],
      "execution_count": 11,
      "outputs": []
    },
    {
      "cell_type": "code",
      "metadata": {
        "colab": {
          "base_uri": "https://localhost:8080/",
          "height": 35
        },
        "id": "-F7Ti4KgxsQo",
        "outputId": "7dd78b5b-94e1-4ecb-c0e8-adaa8b64d725"
      },
      "source": [
        "solution(5)"
      ],
      "execution_count": 12,
      "outputs": [
        {
          "output_type": "execute_result",
          "data": {
            "application/vnd.google.colaboratory.intrinsic+json": {
              "type": "string"
            },
            "text/plain": [
              "'수박수박수'"
            ]
          },
          "metadata": {},
          "execution_count": 12
        }
      ]
    }
  ]
}