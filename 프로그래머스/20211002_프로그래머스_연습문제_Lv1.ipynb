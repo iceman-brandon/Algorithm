{
  "nbformat": 4,
  "nbformat_minor": 0,
  "metadata": {
    "colab": {
      "name": "20211002_프로그래머스 연습문제_Lv1.ipynb",
      "provenance": [],
      "collapsed_sections": []
    },
    "kernelspec": {
      "name": "python3",
      "display_name": "Python 3"
    },
    "language_info": {
      "name": "python"
    }
  },
  "cells": [
    {
      "cell_type": "code",
      "metadata": {
        "id": "YbLrrWaXzJWR"
      },
      "source": [
        "# 가운데 글자 가져오기 문제\n",
        "def solution(s):\n",
        "    if len(s) % 2 == 1: # string 문자의 길이가 홀수인 경우\n",
        "        return s[len(s)//2]\n",
        "    else:\n",
        "        return s[(len(s)//2-1) : (len(s)//2+1)]"
      ],
      "execution_count": 1,
      "outputs": []
    },
    {
      "cell_type": "code",
      "metadata": {
        "colab": {
          "base_uri": "https://localhost:8080/",
          "height": 35
        },
        "id": "O5AxPLYtE0qB",
        "outputId": "25000631-2bfb-4a48-b49a-3f77dc087d7b"
      },
      "source": [
        "solution('abcde')"
      ],
      "execution_count": 2,
      "outputs": [
        {
          "output_type": "execute_result",
          "data": {
            "application/vnd.google.colaboratory.intrinsic+json": {
              "type": "string"
            },
            "text/plain": [
              "'c'"
            ]
          },
          "metadata": {},
          "execution_count": 2
        }
      ]
    },
    {
      "cell_type": "code",
      "metadata": {
        "colab": {
          "base_uri": "https://localhost:8080/",
          "height": 35
        },
        "id": "ofkHzHaLE8bP",
        "outputId": "b8942150-2438-41bd-a121-0b3093d1c8b5"
      },
      "source": [
        "solution('qwer')"
      ],
      "execution_count": 3,
      "outputs": [
        {
          "output_type": "execute_result",
          "data": {
            "application/vnd.google.colaboratory.intrinsic+json": {
              "type": "string"
            },
            "text/plain": [
              "'we'"
            ]
          },
          "metadata": {},
          "execution_count": 3
        }
      ]
    }
  ]
}