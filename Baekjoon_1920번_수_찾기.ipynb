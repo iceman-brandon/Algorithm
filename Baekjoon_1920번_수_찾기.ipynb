{
  "nbformat": 4,
  "nbformat_minor": 0,
  "metadata": {
    "colab": {
      "name": "Baekjoon 1920번_수 찾기.ipynb",
      "provenance": [],
      "collapsed_sections": [],
      "authorship_tag": "ABX9TyNZGlkNky0/wLm0ki2t8sug",
      "include_colab_link": true
    },
    "kernelspec": {
      "name": "python3",
      "display_name": "Python 3"
    },
    "language_info": {
      "name": "python"
    }
  },
  "cells": [
    {
      "cell_type": "markdown",
      "metadata": {
        "id": "view-in-github",
        "colab_type": "text"
      },
      "source": [
        "<a href=\"https://colab.research.google.com/github/iceman-brandon/Algorithm/blob/main/Baekjoon_1920%EB%B2%88_%EC%88%98_%EC%B0%BE%EA%B8%B0.ipynb\" target=\"_parent\"><img src=\"https://colab.research.google.com/assets/colab-badge.svg\" alt=\"Open In Colab\"/></a>"
      ]
    },
    {
      "cell_type": "code",
      "metadata": {
        "id": "qV1eEYAh64gg",
        "colab": {
          "base_uri": "https://localhost:8080/"
        },
        "outputId": "d42495b4-816c-4210-a57a-f257c76631f1"
      },
      "source": [
        "# Baekjoon 1920번 : 수 찾기 문제\n",
        "\n",
        "def main():\n",
        "    input()\n",
        "    n = input().split(' ')\n",
        "    a = set(n)\n",
        "    input()\n",
        "    m = input().split(' ')\n",
        "    for i in m:\n",
        "        if i in a:\n",
        "            print(1)\n",
        "        else:\n",
        "            print(0)\n",
        "\n",
        "if __name__ == \"__main__\":\n",
        "    main()"
      ],
      "execution_count": null,
      "outputs": [
        {
          "output_type": "stream",
          "text": [
            "5\n",
            "4 1 5 2 3\n",
            "5\n",
            "1 3 7 9 5\n",
            "1\n",
            "1\n",
            "0\n",
            "0\n",
            "1\n"
          ],
          "name": "stdout"
        }
      ]
    }
  ]
}